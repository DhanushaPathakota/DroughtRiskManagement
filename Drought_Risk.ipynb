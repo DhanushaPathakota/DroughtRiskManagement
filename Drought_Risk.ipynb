{
 "cells": [
  {
   "cell_type": "markdown",
   "metadata": {},
   "source": [
    "**AGRICULTURAL DROUGHT PREDICTION with 98.925**"
   ]
  },
  {
   "cell_type": "code",
   "execution_count": 1,
   "metadata": {
    "_cell_guid": "b1076dfc-b9ad-4769-8c92-a6c4dae69d19",
    "_uuid": "8f2839f25d086af736a60e9eeb907d3b93b6e0e5"
   },
   "outputs": [
    {
     "name": "stderr",
     "output_type": "stream",
     "text": [
      "Using TensorFlow backend.\n"
     ]
    }
   ],
   "source": [
    "#import the necessary libraries\n",
    "import numpy as np \n",
    "import pandas as pd \n",
    "import matplotlib.pyplot as plt\n",
    "from skimage.io import imshow\n",
    "\n",
    "from keras.layers import Dense\n",
    "from keras.layers import Conv2D\n",
    "from keras.layers import MaxPooling2D\n",
    "from keras.layers import Flatten\n",
    "from keras.layers import Dropout\n",
    "from keras.models import Sequential"
   ]
  },
  {
   "cell_type": "markdown",
   "metadata": {},
   "source": [
    "Using the dataset from kaggle :\n",
    "https://www.kaggle.com/crawford/deepsat-sat4\n"
   ]
  },
  {
   "cell_type": "code",
   "execution_count": 2,
   "metadata": {
    "_cell_guid": "79c7e3d0-c299-4dcb-8224-4455121ee9b0",
    "_uuid": "d629ff2d2480ee46fbb7e2d37f6b5fab8052498a"
   },
   "outputs": [],
   "source": [
    "#Reading dataset\n",
    "X = pd.read_csv(\"../input/deepsat-sat4/X_test_sat4.csv\") #values are in DataFrame format\n",
    "Y = pd.read_csv(\"../input/deepsat-sat4/y_test_sat4.csv\") #values are in DataFrame format\n",
    "X = np.array(X) # converting Dataframe to numpy array\n",
    "Y = np.array(Y) # converting Dataframe to numpy array"
   ]
  },
  {
   "cell_type": "code",
   "execution_count": 3,
   "metadata": {},
   "outputs": [
    {
     "name": "stdout",
     "output_type": "stream",
     "text": [
      "Train data shape:  (99999, 3136)\n"
     ]
    }
   ],
   "source": [
    "#Shape of data used\n",
    "print(\"Train data shape: \",X.shape)"
   ]
  },
  {
   "cell_type": "code",
   "execution_count": 4,
   "metadata": {},
   "outputs": [
    {
     "name": "stdout",
     "output_type": "stream",
     "text": [
      "Reshaped data format:  (99999, 28, 28, 4)\n"
     ]
    }
   ],
   "source": [
    "#reshaping (99999, 3136) to (99999, 28, 28, 4)\n",
    "X = X.reshape([99999,28,28,4]).astype(float)\n",
    "print(\"Reshaped data format: \",X.shape)"
   ]
  },
  {
   "cell_type": "code",
   "execution_count": 5,
   "metadata": {},
   "outputs": [],
   "source": [
    "#splitting data into train and test\n",
    "from sklearn.model_selection import train_test_split\n",
    "x_train, x_test, y_train, y_test = train_test_split(X, Y, test_size = 0.20, random_state = 0) "
   ]
  },
  {
   "cell_type": "code",
   "execution_count": 6,
   "metadata": {},
   "outputs": [
    {
     "name": "stdout",
     "output_type": "stream",
     "text": [
      "X train data shape:  (79999, 28, 28, 4)\n",
      "Y train data shape:  (79999, 4)\n",
      "X test data shape:  (20000, 28, 28, 4)\n",
      "Y test data shape:  (20000, 4)\n"
     ]
    }
   ],
   "source": [
    "#format of train and test data\n",
    "print(\"X train data shape: \",x_train.shape)\n",
    "print(\"Y train data shape: \",y_train.shape)\n",
    "print(\"X test data shape: \",x_test.shape)\n",
    "print(\"Y test data shape: \",y_test.shape)"
   ]
  },
  {
   "cell_type": "markdown",
   "metadata": {},
   "source": [
    "**Four type of classification is possible i.e**\n",
    "* if y_train[x] == [1,0,0,0] Barren land(Drought)\n",
    "* if y_train[x] == [0,1,0,0] Forest land\n",
    "* if y_train[x] == [0,0,1,0] Grassland\n",
    "* if y_train[x] == [0,0,0,1] Others"
   ]
  },
  {
   "cell_type": "code",
   "execution_count": 7,
   "metadata": {},
   "outputs": [],
   "source": [
    "#normalizing train and test data\n",
    "x_train = x_train/255\n",
    "x_test = x_test/255"
   ]
  },
  {
   "cell_type": "code",
   "execution_count": 8,
   "metadata": {},
   "outputs": [
    {
     "data": {
      "image/png": "[encoded data removed]",
      "text/plain": [
       "<Figure size 432x288 with 1 Axes>"
      ]
     },
     "metadata": {
      "needs_background": "light"
     },
     "output_type": "display_data"
    },
    {
     "name": "stdout",
     "output_type": "stream",
     "text": [
      "Ground Truth: Barren Land\n"
     ]
    }
   ],
   "source": [
    "#Images in the data with its label(reduced image)\n",
    "img_no = 1276 #type a random number in inclusive range 0 to 79999\n",
    "imshow(np.squeeze(x_train[img_no,:,:,0:3]).astype(float)) #taking only RGB format\n",
    "plt.show()\n",
    "print ('Ground Truth: ',end='')\n",
    "if y_train[img_no, 0] == 1:\n",
    "    print ('Barren Land')\n",
    "elif y_train[img_no, 1] == 1:\n",
    "    print ('Forest Land')\n",
    "elif y_train[img_no, 2] == 1:\n",
    "    print ('Grassland')\n",
    "else:\n",
    "    print ('Other')"
   ]
  },
  {
   "cell_type": "markdown",
   "metadata": {},
   "source": [
    "Using **Convolutional Neural Network**"
   ]
  },
  {
   "cell_type": "code",
   "execution_count": 9,
   "metadata": {},
   "outputs": [],
   "source": [
    "#defining layers\n",
    "num_classes = 4\n",
    "from keras.layers.advanced_activations import LeakyReLU\n",
    "model = Sequential()\n",
    "model.add(Conv2D(32, kernel_size=(3, 3),activation='linear',input_shape=(28,28,4),padding='same'))\n",
    "model.add(LeakyReLU(alpha=0.1))\n",
    "model.add(MaxPooling2D((2, 2),padding='same'))\n",
    "model.add(Conv2D(64, (3, 3), activation='linear',padding='same'))\n",
    "model.add(LeakyReLU(alpha=0.1))\n",
    "model.add(MaxPooling2D(pool_size=(2, 2),padding='same'))\n",
    "model.add(Conv2D(128, (3, 3), activation='linear',padding='same'))\n",
    "model.add(LeakyReLU(alpha=0.1))                  \n",
    "model.add(MaxPooling2D(pool_size=(2, 2),padding='same'))\n",
    "model.add(Flatten())\n",
    "model.add(Dense(128, activation='linear'))\n",
    "model.add(LeakyReLU(alpha=0.1))                  \n",
    "model.add(Dense(num_classes, input_shape=(3136,), activation='softmax'))\n",
    "model.compile(optimizer='adam', loss='categorical_crossentropy', metrics=['accuracy'])"
   ]
  },
  {
   "cell_type": "code",
   "execution_count": 10,
   "metadata": {},
   "outputs": [
    {
     "name": "stdout",
     "output_type": "stream",
     "text": [
      "Model: \"sequential_1\"\n",
      "_________________________________________________________________\n",
      "Layer (type)                 Output Shape              Param #   \n",
      "=================================================================\n",
      "conv2d_1 (Conv2D)            (None, 28, 28, 32)        1184      \n",
      "_________________________________________________________________\n",
      "leaky_re_lu_1 (LeakyReLU)    (None, 28, 28, 32)        0         \n",
      "_________________________________________________________________\n",
      "max_pooling2d_1 (MaxPooling2 (None, 14, 14, 32)        0         \n",
      "_________________________________________________________________\n",
      "conv2d_2 (Conv2D)            (None, 14, 14, 64)        18496     \n",
      "_________________________________________________________________\n",
      "leaky_re_lu_2 (LeakyReLU)    (None, 14, 14, 64)        0         \n",
      "_________________________________________________________________\n",
      "max_pooling2d_2 (MaxPooling2 (None, 7, 7, 64)          0         \n",
      "_________________________________________________________________\n",
      "conv2d_3 (Conv2D)            (None, 7, 7, 128)         73856     \n",
      "_________________________________________________________________\n",
      "leaky_re_lu_3 (LeakyReLU)    (None, 7, 7, 128)         0         \n",
      "_________________________________________________________________\n",
      "max_pooling2d_3 (MaxPooling2 (None, 4, 4, 128)         0         \n",
      "_________________________________________________________________\n",
      "flatten_1 (Flatten)          (None, 2048)              0         \n",
      "_________________________________________________________________\n",
      "dense_1 (Dense)              (None, 128)               262272    \n",
      "_________________________________________________________________\n",
      "leaky_re_lu_4 (LeakyReLU)    (None, 128)               0         \n",
      "_________________________________________________________________\n",
      "dense_2 (Dense)              (None, 4)                 516       \n",
      "=================================================================\n",
      "Total params: 356,324\n",
      "Trainable params: 356,324\n",
      "Non-trainable params: 0\n",
      "_________________________________________________________________\n"
     ]
    }
   ],
   "source": [
    "#CNN Model summary\n",
    "model.summary()"
   ]
  },
  {
   "cell_type": "code",
   "execution_count": 11,
   "metadata": {},
   "outputs": [
    {
     "name": "stdout",
     "output_type": "stream",
     "text": [
      "Train on 63999 samples, validate on 16000 samples\n",
      "Epoch 1/20\n",
      "63999/63999 [==============================] - 72s 1ms/step - loss: 0.2667 - accuracy: 0.8977 - val_loss: 0.1464 - val_accuracy: 0.9452\n",
      "Epoch 2/20\n",
      "63999/63999 [==============================] - 65s 1ms/step - loss: 0.1021 - accuracy: 0.9634 - val_loss: 0.0880 - val_accuracy: 0.9677\n",
      "Epoch 3/20\n",
      "63999/63999 [==============================] - 65s 1ms/step - loss: 0.0798 - accuracy: 0.9717 - val_loss: 0.0572 - val_accuracy: 0.9811\n",
      "Epoch 4/20\n",
      "63999/63999 [==============================] - 66s 1ms/step - loss: 0.0702 - accuracy: 0.9745 - val_loss: 0.0607 - val_accuracy: 0.9808\n",
      "Epoch 5/20\n",
      "61184/63999 [===========================>..] - ETA: 2s - loss: 0.0602 - accuracy: 0.9788"
     ]
    }
   ],
   "source": [
    "#fitting the data into the model\n",
    "model.fit(x_train,y_train,batch_size=64, epochs=20, verbose=1, validation_split=0.20)"
   ]
  },
  {
   "cell_type": "code",
   "execution_count": 12,
   "metadata": {},
   "outputs": [
    {
     "name": "stdout",
     "output_type": "stream",
     "text": [
      "20000/20000 [==============================] - 7s 354us/step\n"
     ]
    }
   ],
   "source": [
    "#predicting model performance\n",
    "preds = model.predict(x_test, verbose=1)"
   ]
  },
  {
   "cell_type": "code",
   "execution_count": 13,
   "metadata": {},
   "outputs": [
    {
     "data": {
      "image/png": "[encoded data removed]",
      "text/plain": [
       "<Figure size 432x288 with 1 Axes>"
      ]
     },
     "metadata": {
      "needs_background": "light"
     },
     "output_type": "display_data"
    },
    {
     "name": "stdout",
     "output_type": "stream",
     "text": [
      "Predicted Label: Barren Land\n",
      "Actual label: Barren Land\n"
     ]
    }
   ],
   "source": [
    "img_no = 587#Type a number between 0 and 20000 inclusive\n",
    "imshow(np.squeeze(x_test[img_no,:,:,0:3]).astype(float)) #Only seeing the RGB channels\n",
    "plt.show()\n",
    "#Predicted classification\n",
    "print ('Predicted Label: ',end='')\n",
    "if preds[img_no, 0]*100  >= 80:\n",
    "    print ('Barren Land')\n",
    "elif preds[img_no, 1]*100 >= 80:\n",
    "    print ('Forest Land')\n",
    "elif preds[img_no, 2]*100 >= 80:\n",
    "    print ('Grassland')\n",
    "else:\n",
    "    print ('Other')\n",
    "\n",
    "#Acutal classification\n",
    "print ('Actual label: ',end='')\n",
    "if y_test[img_no, 0] == 1:\n",
    "    print ('Barren Land')\n",
    "elif y_test[img_no, 1] == 1:\n",
    "    print ('Forest Land')\n",
    "elif y_test[img_no, 2] == 1:\n",
    "    print ('Grassland')\n",
    "else:\n",
    "    print ('Other')"
   ]
  },
  {
   "cell_type": "code",
   "execution_count": 14,
   "metadata": {},
   "outputs": [
    {
     "name": "stdout",
     "output_type": "stream",
     "text": [
      "Accuracy score:  0.9893\n",
      "Classification report:\n",
      "              precision    recall  f1-score   support\n",
      "\n",
      "           0       0.99      0.97      0.98      5223\n",
      "           1       1.00      1.00      1.00      4121\n",
      "           2       0.96      0.99      0.98      3596\n",
      "           3       1.00      1.00      1.00      7060\n",
      "\n",
      "   micro avg       0.99      0.99      0.99     20000\n",
      "   macro avg       0.99      0.99      0.99     20000\n",
      "weighted avg       0.99      0.99      0.99     20000\n",
      " samples avg       0.99      0.99      0.99     20000\n",
      "\n"
     ]
    },
    {
     "name": "stderr",
     "output_type": "stream",
     "text": [
      "/opt/conda/lib/python3.7/site-packages/sklearn/metrics/_classification.py:1272: UndefinedMetricWarning: Precision and F-score are ill-defined and being set to 0.0 in samples with no predicted labels. Use `zero_division` parameter to control this behavior.\n",
      "  _warn_prf(average, modifier, msg_start, len(result))\n"
     ]
    }
   ],
   "source": [
    "#model performance evaluation\n",
    "from sklearn.metrics import accuracy_score, confusion_matrix, classification_report\n",
    "print(\"Accuracy score: \",accuracy_score(y_test, np.round_(preds)))\n",
    "print(\"Classification report:\")\n",
    "print(classification_report(y_test, np.round_(preds)))"
   ]
  },
  {
   "cell_type": "code",
   "execution_count": 15,
   "metadata": {},
   "outputs": [
    {
     "name": "stdout",
     "output_type": "stream",
     "text": [
      "Accuracy of CNN model is:  98.92999999999999\n"
     ]
    }
   ],
   "source": [
    "print(\"Accuracy of CNN model is: \", accuracy_score(y_test,np.round_(preds))*100)"
   ]
  }
 ],
 "metadata": {
  "kernelspec": {
   "display_name": "Python 3 (ipykernel)",
   "language": "python",
   "name": "python3"
  },
  "language_info": {
   "codemirror_mode": {
    "name": "ipython",
    "version": 3
   },
   "file_extension": ".py",
   "mimetype": "text/x-python",
   "name": "python",
   "nbconvert_exporter": "python",
   "pygments_lexer": "ipython3",
   "version": "3.9.7"
  }
 },
 "nbformat": 4,
 "nbformat_minor": 4
}
